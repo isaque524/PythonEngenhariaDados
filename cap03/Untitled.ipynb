{
 "cells": [
  {
   "cell_type": "code",
   "execution_count": 1,
   "id": "dad4a5c1",
   "metadata": {},
   "outputs": [
    {
     "name": "stdout",
     "output_type": "stream",
     "text": [
      "Bem vindo a Calculadora\n"
     ]
    }
   ],
   "source": [
    "print(\"Bem vindo a Calculadora\")"
   ]
  },
  {
   "cell_type": "code",
   "execution_count": 2,
   "id": "8e54ef46",
   "metadata": {},
   "outputs": [
    {
     "name": "stdout",
     "output_type": "stream",
     "text": [
      "Ensira o primeiro numero.5\n"
     ]
    }
   ],
   "source": [
    "numero1  =  float(input(\"Ensira o primeiro numero.\"))"
   ]
  },
  {
   "cell_type": "code",
   "execution_count": 3,
   "id": "57deea0f",
   "metadata": {},
   "outputs": [
    {
     "name": "stdout",
     "output_type": "stream",
     "text": [
      "Ensira o segundo numero.2\n"
     ]
    }
   ],
   "source": [
    "numero2 = float(input(\"Ensira o segundo numero.\"))"
   ]
  },
  {
   "cell_type": "code",
   "execution_count": 4,
   "id": "4be683bd",
   "metadata": {},
   "outputs": [
    {
     "name": "stdout",
     "output_type": "stream",
     "text": [
      "ensira a operação exemplo +, - ,* ou /.\n"
     ]
    }
   ],
   "source": [
    "op = input (\"ensira a operação exemplo +, - ,* ou /\")"
   ]
  },
  {
   "cell_type": "code",
   "execution_count": 5,
   "id": "09f42215",
   "metadata": {},
   "outputs": [
    {
     "name": "stdout",
     "output_type": "stream",
     "text": [
      "Operação Invalida\n"
     ]
    }
   ],
   "source": [
    "if op == \"+\": \n",
    "    resultado = numero1 + numero2\n",
    "    print(\"O resultado é:\", resultado)\n",
    "    \n",
    "elif op == \"-\": \n",
    "    resultado = numero1 - numero2\n",
    "    print(\"O resultado é:\", resultado)\n",
    "    \n",
    "elif  op == \"*\": \n",
    "    resultado = numero1 * numero2\n",
    "    print(\"O resultado é:\", resultado)\n",
    "\n",
    "elif op == \"/\":\n",
    "    resultado = numero1 / numero2\n",
    "    print(\"O resultado é:\", resultado)\n",
    "    \n",
    "else:\n",
    "    print(\"Operação Invalida\")"
   ]
  },
  {
   "cell_type": "code",
   "execution_count": 6,
   "id": "99cf0243",
   "metadata": {},
   "outputs": [],
   "source": [
    "lista1 = [1,10,25,3,21,12,5,40]"
   ]
  },
  {
   "cell_type": "code",
   "execution_count": 10,
   "id": "58be65cd",
   "metadata": {},
   "outputs": [],
   "source": [
    "def double_sort(arr):\n",
    "\n",
    "    n = len(arr)\n",
    "\n",
    "    for i in range(n):\n",
    "        for j in range(0,n-i-1):\n",
    "            if arr[j] > arr[j+1]:\n",
    "                arr[j], arr[j+1] = arr[j+1], arr[j]\n",
    "                \n",
    "    return arr\n",
    "        \n",
    "    "
   ]
  },
  {
   "cell_type": "code",
   "execution_count": 11,
   "id": "ab617a6c",
   "metadata": {},
   "outputs": [
    {
     "name": "stdout",
     "output_type": "stream",
     "text": [
      "[1, 3, 5, 10, 12, 21, 25, 40]\n"
     ]
    }
   ],
   "source": [
    "print(double_sort(lista1))"
   ]
  },
  {
   "cell_type": "code",
   "execution_count": 12,
   "id": "c7187081",
   "metadata": {},
   "outputs": [],
   "source": [
    "lista2 = [10,100,250,30,210,122,51,400]"
   ]
  },
  {
   "cell_type": "code",
   "execution_count": 13,
   "id": "a5892334",
   "metadata": {},
   "outputs": [
    {
     "name": "stdout",
     "output_type": "stream",
     "text": [
      "[10, 30, 51, 100, 122, 210, 250, 400]\n"
     ]
    }
   ],
   "source": [
    "print(double_sort(lista2))"
   ]
  },
  {
   "cell_type": "code",
   "execution_count": null,
   "id": "be41d7b1",
   "metadata": {},
   "outputs": [],
   "source": []
  }
 ],
 "metadata": {
  "kernelspec": {
   "display_name": "Python 3 (ipykernel)",
   "language": "python",
   "name": "python3"
  },
  "language_info": {
   "codemirror_mode": {
    "name": "ipython",
    "version": 3
   },
   "file_extension": ".py",
   "mimetype": "text/x-python",
   "name": "python",
   "nbconvert_exporter": "python",
   "pygments_lexer": "ipython3",
   "version": "3.9.13"
  }
 },
 "nbformat": 4,
 "nbformat_minor": 5
}
