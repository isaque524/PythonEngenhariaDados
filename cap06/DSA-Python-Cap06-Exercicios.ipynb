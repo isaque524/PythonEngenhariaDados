{
 "cells": [
  {
   "cell_type": "markdown",
   "metadata": {},
   "source": [
    "# <font color='blue'>Data Science Academy</font>\n",
    "\n",
    "## <font color='blue'>Fundamentos de Linguagem Python Para Análise de Dados e Data Science</font>\n",
    "\n",
    "## <font color='blue'>Capítulo 6 - Exercícios</font>"
   ]
  },
  {
   "cell_type": "code",
   "execution_count": 2,
   "metadata": {},
   "outputs": [
    {
     "name": "stdout",
     "output_type": "stream",
     "text": [
      "Versão da Linguagem Python Usada Neste Jupyter Notebook: 3.9.13\n"
     ]
    }
   ],
   "source": [
    "# Versão da Linguagem Python\n",
    "from platform import python_version\n",
    "print('Versão da Linguagem Python Usada Neste Jupyter Notebook:', python_version())"
   ]
  },
  {
   "cell_type": "markdown",
   "metadata": {},
   "source": [
    "## Exercícios "
   ]
  },
  {
   "cell_type": "code",
   "execution_count": 6,
   "metadata": {},
   "outputs": [
    {
     "name": "stdout",
     "output_type": "stream",
     "text": [
      "27\n",
      "64\n",
      "125\n"
     ]
    }
   ],
   "source": [
    "# Exercício 1 - Crie uma lista de 3 elementos e calcule a terceira potência de cada elemento.\n",
    "list1 = [3,4,5]\n",
    "for i in list1:\n",
    "    lista2 = i**3\n",
    "    print(lista2)"
   ]
  },
  {
   "cell_type": "code",
   "execution_count": 7,
   "metadata": {},
   "outputs": [
    {
     "name": "stdout",
     "output_type": "stream",
     "text": [
      "['A', 'a', 1]\n",
      "['DATA', 'data', 4]\n",
      "['SCIENCE', 'science', 7]\n",
      "['ACADEMY', 'academy', 7]\n",
      "['OFERCE', 'oferce', 6]\n",
      "['OS', 'os', 2]\n",
      "['MELHORES', 'melhores', 8]\n",
      "['CURSOS', 'cursos', 6]\n",
      "['DE', 'de', 2]\n",
      "['ANÁLISE', 'análise', 7]\n",
      "['DE', 'de', 2]\n",
      "['DADOS', 'dados', 5]\n",
      "['DO', 'do', 2]\n",
      "['BRASIL.', 'brasil.', 7]\n"
     ]
    }
   ],
   "source": [
    "# Exercício 2 - Reescreva o código abaixo, usando a função map(). O resultado final deve ser o mesmo!\n",
    "palavras = 'A Data Science Academy oferce os melhores cursos de análise de dados do Brasil.'.split()\n",
    "resultado = [[w.upper(), w.lower(), len(w)] for w in palavras]\n",
    "for i in resultado:\n",
    "    print (i)"
   ]
  },
  {
   "cell_type": "code",
   "execution_count": 26,
   "metadata": {},
   "outputs": [],
   "source": [
    "# Solução\n",
    "def resultado(r):\n",
    "    return [[w.upper(), w.lower(), len(w)] for w in palavras]\n"
   ]
  },
  {
   "cell_type": "code",
   "execution_count": 27,
   "metadata": {},
   "outputs": [
    {
     "name": "stdout",
     "output_type": "stream",
     "text": [
      "[['A', 'a', 1], ['DATA', 'data', 4], ['SCIENCE', 'science', 7], ['ACADEMY', 'academy', 7], ['OFERCE', 'oferce', 6], ['OS', 'os', 2], ['MELHORES', 'melhores', 8], ['CURSOS', 'cursos', 6], ['DE', 'de', 2], ['ANÁLISE', 'análise', 7], ['DE', 'de', 2], ['DADOS', 'dados', 5], ['DO', 'do', 2], ['BRASIL.', 'brasil.', 7]]\n",
      "[['A', 'a', 1], ['DATA', 'data', 4], ['SCIENCE', 'science', 7], ['ACADEMY', 'academy', 7], ['OFERCE', 'oferce', 6], ['OS', 'os', 2], ['MELHORES', 'melhores', 8], ['CURSOS', 'cursos', 6], ['DE', 'de', 2], ['ANÁLISE', 'análise', 7], ['DE', 'de', 2], ['DADOS', 'dados', 5], ['DO', 'do', 2], ['BRASIL.', 'brasil.', 7]]\n",
      "[['A', 'a', 1], ['DATA', 'data', 4], ['SCIENCE', 'science', 7], ['ACADEMY', 'academy', 7], ['OFERCE', 'oferce', 6], ['OS', 'os', 2], ['MELHORES', 'melhores', 8], ['CURSOS', 'cursos', 6], ['DE', 'de', 2], ['ANÁLISE', 'análise', 7], ['DE', 'de', 2], ['DADOS', 'dados', 5], ['DO', 'do', 2], ['BRASIL.', 'brasil.', 7]]\n",
      "[['A', 'a', 1], ['DATA', 'data', 4], ['SCIENCE', 'science', 7], ['ACADEMY', 'academy', 7], ['OFERCE', 'oferce', 6], ['OS', 'os', 2], ['MELHORES', 'melhores', 8], ['CURSOS', 'cursos', 6], ['DE', 'de', 2], ['ANÁLISE', 'análise', 7], ['DE', 'de', 2], ['DADOS', 'dados', 5], ['DO', 'do', 2], ['BRASIL.', 'brasil.', 7]]\n",
      "[['A', 'a', 1], ['DATA', 'data', 4], ['SCIENCE', 'science', 7], ['ACADEMY', 'academy', 7], ['OFERCE', 'oferce', 6], ['OS', 'os', 2], ['MELHORES', 'melhores', 8], ['CURSOS', 'cursos', 6], ['DE', 'de', 2], ['ANÁLISE', 'análise', 7], ['DE', 'de', 2], ['DADOS', 'dados', 5], ['DO', 'do', 2], ['BRASIL.', 'brasil.', 7]]\n",
      "[['A', 'a', 1], ['DATA', 'data', 4], ['SCIENCE', 'science', 7], ['ACADEMY', 'academy', 7], ['OFERCE', 'oferce', 6], ['OS', 'os', 2], ['MELHORES', 'melhores', 8], ['CURSOS', 'cursos', 6], ['DE', 'de', 2], ['ANÁLISE', 'análise', 7], ['DE', 'de', 2], ['DADOS', 'dados', 5], ['DO', 'do', 2], ['BRASIL.', 'brasil.', 7]]\n",
      "[['A', 'a', 1], ['DATA', 'data', 4], ['SCIENCE', 'science', 7], ['ACADEMY', 'academy', 7], ['OFERCE', 'oferce', 6], ['OS', 'os', 2], ['MELHORES', 'melhores', 8], ['CURSOS', 'cursos', 6], ['DE', 'de', 2], ['ANÁLISE', 'análise', 7], ['DE', 'de', 2], ['DADOS', 'dados', 5], ['DO', 'do', 2], ['BRASIL.', 'brasil.', 7]]\n",
      "[['A', 'a', 1], ['DATA', 'data', 4], ['SCIENCE', 'science', 7], ['ACADEMY', 'academy', 7], ['OFERCE', 'oferce', 6], ['OS', 'os', 2], ['MELHORES', 'melhores', 8], ['CURSOS', 'cursos', 6], ['DE', 'de', 2], ['ANÁLISE', 'análise', 7], ['DE', 'de', 2], ['DADOS', 'dados', 5], ['DO', 'do', 2], ['BRASIL.', 'brasil.', 7]]\n",
      "[['A', 'a', 1], ['DATA', 'data', 4], ['SCIENCE', 'science', 7], ['ACADEMY', 'academy', 7], ['OFERCE', 'oferce', 6], ['OS', 'os', 2], ['MELHORES', 'melhores', 8], ['CURSOS', 'cursos', 6], ['DE', 'de', 2], ['ANÁLISE', 'análise', 7], ['DE', 'de', 2], ['DADOS', 'dados', 5], ['DO', 'do', 2], ['BRASIL.', 'brasil.', 7]]\n",
      "[['A', 'a', 1], ['DATA', 'data', 4], ['SCIENCE', 'science', 7], ['ACADEMY', 'academy', 7], ['OFERCE', 'oferce', 6], ['OS', 'os', 2], ['MELHORES', 'melhores', 8], ['CURSOS', 'cursos', 6], ['DE', 'de', 2], ['ANÁLISE', 'análise', 7], ['DE', 'de', 2], ['DADOS', 'dados', 5], ['DO', 'do', 2], ['BRASIL.', 'brasil.', 7]]\n",
      "[['A', 'a', 1], ['DATA', 'data', 4], ['SCIENCE', 'science', 7], ['ACADEMY', 'academy', 7], ['OFERCE', 'oferce', 6], ['OS', 'os', 2], ['MELHORES', 'melhores', 8], ['CURSOS', 'cursos', 6], ['DE', 'de', 2], ['ANÁLISE', 'análise', 7], ['DE', 'de', 2], ['DADOS', 'dados', 5], ['DO', 'do', 2], ['BRASIL.', 'brasil.', 7]]\n",
      "[['A', 'a', 1], ['DATA', 'data', 4], ['SCIENCE', 'science', 7], ['ACADEMY', 'academy', 7], ['OFERCE', 'oferce', 6], ['OS', 'os', 2], ['MELHORES', 'melhores', 8], ['CURSOS', 'cursos', 6], ['DE', 'de', 2], ['ANÁLISE', 'análise', 7], ['DE', 'de', 2], ['DADOS', 'dados', 5], ['DO', 'do', 2], ['BRASIL.', 'brasil.', 7]]\n",
      "[['A', 'a', 1], ['DATA', 'data', 4], ['SCIENCE', 'science', 7], ['ACADEMY', 'academy', 7], ['OFERCE', 'oferce', 6], ['OS', 'os', 2], ['MELHORES', 'melhores', 8], ['CURSOS', 'cursos', 6], ['DE', 'de', 2], ['ANÁLISE', 'análise', 7], ['DE', 'de', 2], ['DADOS', 'dados', 5], ['DO', 'do', 2], ['BRASIL.', 'brasil.', 7]]\n",
      "[['A', 'a', 1], ['DATA', 'data', 4], ['SCIENCE', 'science', 7], ['ACADEMY', 'academy', 7], ['OFERCE', 'oferce', 6], ['OS', 'os', 2], ['MELHORES', 'melhores', 8], ['CURSOS', 'cursos', 6], ['DE', 'de', 2], ['ANÁLISE', 'análise', 7], ['DE', 'de', 2], ['DADOS', 'dados', 5], ['DO', 'do', 2], ['BRASIL.', 'brasil.', 7]]\n"
     ]
    }
   ],
   "source": [
    "for i in map(resultado,palavras):\n",
    "    print(i)"
   ]
  },
  {
   "cell_type": "code",
   "execution_count": 33,
   "metadata": {},
   "outputs": [],
   "source": [
    "# Exercício 3 - Calcule a matriz transposta da matriz abaixo.\n",
    "# Caso não saiba o que é matriz transposta, visite este link: https://pt.wikipedia.org/wiki/Matriz_transposta\n",
    "# Matriz transposta é um conceito fundamental na construção de redes neurais artificiais, base de sistemas de IA.\n",
    "matr = [[1, 2],[3,4],[5,6],[7,8]]\n"
   ]
  },
  {
   "cell_type": "code",
   "execution_count": 34,
   "metadata": {},
   "outputs": [],
   "source": [
    "def transpose(matrix):\n",
    "    return [list(row) for row in zip(*matrix)]"
   ]
  },
  {
   "cell_type": "code",
   "execution_count": 35,
   "metadata": {},
   "outputs": [
    {
     "name": "stdout",
     "output_type": "stream",
     "text": [
      "[[1, 3, 5, 7], [2, 4, 6, 8]]\n"
     ]
    }
   ],
   "source": [
    "A_T = transpose(matr)\n",
    "print(A_T)"
   ]
  },
  {
   "cell_type": "code",
   "execution_count": null,
   "metadata": {},
   "outputs": [],
   "source": [
    "# Exercício 4 - Crie duas funções, uma para elevar um número ao quadrado e outra para elevar ao cubo. \n",
    "# Aplique as duas funções aos elementos da lista abaixo. \n",
    "# Obs: as duas funções devem ser aplicadas simultaneamente.\n",
    "lista = [0, 1, 2, 3, 4]\n"
   ]
  },
  {
   "cell_type": "code",
   "execution_count": null,
   "metadata": {},
   "outputs": [],
   "source": [
    "# Exercício 5 - Abaixo você encontra duas listas. Faça com que cada elemento da listaA seja elevado \n",
    "# ao elemento correspondente na listaB.\n",
    "listaA = [2, 3, 4]\n",
    "listaB = [10, 11, 12]\n"
   ]
  },
  {
   "cell_type": "code",
   "execution_count": null,
   "metadata": {},
   "outputs": [],
   "source": [
    "# Exercício 6 - Considerando o range de valores abaixo, use a função filter() para retornar \n",
    "# apenas os valores negativos.\n",
    "range(-5, 5)\n"
   ]
  },
  {
   "cell_type": "code",
   "execution_count": null,
   "metadata": {},
   "outputs": [],
   "source": [
    "# Exercício 7 - Usando a função filter(), encontre os valores que são comuns às duas listas abaixo.\n",
    "a = [1,2,3,5,7,9]\n",
    "b = [2,3,5,6,7,8]\n"
   ]
  },
  {
   "cell_type": "code",
   "execution_count": null,
   "metadata": {},
   "outputs": [],
   "source": [
    "# Exercício 8 - Considere os dois dicionários abaixo. \n",
    "# Crie um terceiro dicionário com as chaves do dicionário 1 e os valores do dicionário 2.\n",
    "dict1 = {'a':1,'b':2}\n",
    "dict2 = {'c':4,'d':5}\n"
   ]
  },
  {
   "cell_type": "code",
   "execution_count": null,
   "metadata": {},
   "outputs": [],
   "source": [
    "# Exercício 9 - Considere a lista abaixo e retorne apenas os elementos cujo índice for maior que 5.\n",
    "lista = ['a', 'b', 'c', 'd', 'e', 'f', 'g', 'h']\n"
   ]
  },
  {
   "cell_type": "code",
   "execution_count": null,
   "metadata": {},
   "outputs": [],
   "source": [
    "# Exercício 10 - Crie um regex em Python para extrair a palavra que aparece depois das palavras \n",
    "# Data e Science na frase: 'A Data Science Academy oferce os melhores cursos de análise de dados do Brasil.'\n",
    "import re\n",
    "texto = 'A Data Science Academy oferece os melhores cursos de análise de dados do Brasil.'\n"
   ]
  },
  {
   "cell_type": "markdown",
   "metadata": {},
   "source": [
    "# Fim"
   ]
  },
  {
   "cell_type": "markdown",
   "metadata": {},
   "source": [
    "### Obrigado\n",
    "\n",
    "### Visite o Blog da Data Science Academy - <a href=\"http://blog.dsacademy.com.br\">Blog DSA</a>"
   ]
  }
 ],
 "metadata": {
  "kernelspec": {
   "display_name": "Python 3 (ipykernel)",
   "language": "python",
   "name": "python3"
  },
  "language_info": {
   "codemirror_mode": {
    "name": "ipython",
    "version": 3
   },
   "file_extension": ".py",
   "mimetype": "text/x-python",
   "name": "python",
   "nbconvert_exporter": "python",
   "pygments_lexer": "ipython3",
   "version": "3.9.13"
  }
 },
 "nbformat": 4,
 "nbformat_minor": 1
}
