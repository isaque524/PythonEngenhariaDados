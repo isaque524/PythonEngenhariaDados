{
 "cells": [
  {
   "cell_type": "code",
   "execution_count": 2,
   "id": "d0d33246",
   "metadata": {},
   "outputs": [
    {
     "name": "stdout",
     "output_type": "stream",
     "text": [
      "1-Soma\n",
      "2-Subtração\n",
      "3-Multiplicação\n",
      "4-Divisão\n",
      "Escolha uma opção: 4\n",
      "Digite o Primeiro numero: 0\n",
      "Digite o Segundo numero: 25\n",
      "O resultado da sua divisão é 0.0\n"
     ]
    }
   ],
   "source": [
    "op = int(input(\"1-Soma\\n2-Subtração\\n3-Multiplicação\\n4-Divisão\\nEscolha uma opção: \"))\n",
    "n1 = int(input(\"Digite o Primeiro numero: \"))\n",
    "n2 = int(input(\"Digite o Segundo numero: \"))\n",
    "if op == 1:\n",
    "    print(\"O resultado da sua soma é\", n1+n2)\n",
    "elif op == 2:\n",
    "       print(\"O resultado da sua soma é\", n1-n2)\n",
    "elif op == 3:\n",
    "       print(\"O resultado da sua soma é\", n1*n2)\n",
    "elif op == 4:\n",
    "    if n2 == 0:\n",
    "        print(\"Não dividimos números por 0\")\n",
    "    else:\n",
    "        print(\"O resultado da sua divisão é\", n1 / n2)\n",
    "else:\n",
    "    print(\"Opção invalida\")"
   ]
  },
  {
   "cell_type": "code",
   "execution_count": null,
   "id": "36497798",
   "metadata": {},
   "outputs": [],
   "source": []
  }
 ],
 "metadata": {
  "kernelspec": {
   "display_name": "Python 3 (ipykernel)",
   "language": "python",
   "name": "python3"
  },
  "language_info": {
   "codemirror_mode": {
    "name": "ipython",
    "version": 3
   },
   "file_extension": ".py",
   "mimetype": "text/x-python",
   "name": "python",
   "nbconvert_exporter": "python",
   "pygments_lexer": "ipython3",
   "version": "3.9.13"
  }
 },
 "nbformat": 4,
 "nbformat_minor": 5
}
